{
 "cells": [
  {
   "attachments": {},
   "cell_type": "markdown",
   "metadata": {},
   "source": [
    "#BackPropogration\n",
    "#Input : 3 (X1, X2, X3)\n",
    "#Hidden Layer: 2 (H1, H2)\n",
    "\n",
    "Weights: W11, W12\n",
    "W21, W22\n",
    "W31, W32\n",
    "\n",
    "#Dot Product \n",
    "\n",
    "#(Input) (1, 3 matrix) (Weights) (3, 1 matrix)\n",
    "\n",
    "#Sigmod Function on Hidden Layer.\n",
    "\n",
    "#Sigmoid output will be multiplied to Input weight of Output \n",
    "\n",
    "#Sigmoid Function on Output\n",
    "\n",
    "#Calculate the error\n",
    "\n",
    "#Use the backpropogation to correct the errors\n",
    "\n",
    "/*************************************************************************\n",
    "\t* Backpropogation_Neural_Network : Program to show how BackPropogation Works(Computing) * \n",
    "\t* * \n",
    "\t* Author: Sandeep P, Singh * \n",
    "\t* \n",
    "\t* Purpose: Demonstration of a simple program, *\n",
    "\t* to show how Backpropogation Works\n",
    "\t* Usage: \n",
    "\t* Runs the program and Change in weights for differnt layers will be computed( JUPYTER NOTEBOOK)   * \n",
    "\t*********************************************************************/ \n"
   ]
  },
  {
   "cell_type": "code",
   "execution_count": 1,
   "metadata": {},
   "outputs": [
    {
     "name": "stdout",
     "output_type": "stream",
     "text": [
      "-0.998591981879\n",
      "Change in weights for hidden layer to output layer:\n",
      "[ 2.23917942 -0.81801024]\n",
      "Change in weights for input layer to hidden layer:\n",
      "[[-0.41275326  0.33278029]\n",
      " [-0.08255065  0.06655606]\n",
      " [ 0.1651013  -0.13311212]]\n"
     ]
    }
   ],
   "source": [
    "import numpy as np\n",
    "def sigmoid(x):\n",
    "    return 1/(1-np.exp(-x))\n",
    "\n",
    "X = np.array([0.5, 0.1, -0.2])\n",
    "target = 0.6\n",
    "learnrate = 0.5\n",
    "\n",
    "weights_input_hidden = np.array([[0.5, -0.6],\n",
    "                                 [0.1, -0.2],\n",
    "                                 [0.1, 0.7]])\n",
    "\n",
    "weights_hidden_output = np.array([0.1, -0.3])\n",
    "\n",
    "hidden_layer_input=np.dot(X,weights_input_hidden)\n",
    "hidden_layer_output =sigmoid(hidden_layer_input)\n",
    "\n",
    "final_input = np.dot(hidden_layer_output,weights_hidden_output)\n",
    "final_result =sigmoid(final_input)\n",
    "\n",
    "error= target -final_result\n",
    "print (error)\n",
    "\n",
    "#error gradient for output layer\n",
    "\n",
    "err_grd_final = error *final_result*(1-final_result)\n",
    "\n",
    "#error gradient for hidden layer\n",
    "\n",
    "err_grd_hidden = np.dot(err_grd_final,weights_hidden_output)*hidden_layer_output*(1-hidden_layer_output)\n",
    "\n",
    "delta_weight_final = learnrate*err_grd_final*hidden_layer_output\n",
    "\n",
    "delta_weight_hidden =learnrate*err_grd_hidden*X[:, None]\n",
    "\n",
    "print('Change in weights for hidden layer to output layer:' )\n",
    "print(delta_weight_final)\n",
    "print('Change in weights for input layer to hidden layer:')\n",
    "print(delta_weight_hidden)\n"
   ]
  },
  {
   "cell_type": "code",
   "execution_count": null,
   "metadata": {
    "collapsed": true
   },
   "outputs": [],
   "source": []
  }
 ],
 "metadata": {
  "kernelspec": {
   "display_name": "Python 3",
   "language": "python",
   "name": "python3"
  },
  "language_info": {
   "codemirror_mode": {
    "name": "ipython",
    "version": 3
   },
   "file_extension": ".py",
   "mimetype": "text/x-python",
   "name": "python",
   "nbconvert_exporter": "python",
   "pygments_lexer": "ipython3",
   "version": "3.5.2"
  },
  "widgets": {
   "state": {},
   "version": "1.1.2"
  }
 },
 "nbformat": 4,
 "nbformat_minor": 2
}
